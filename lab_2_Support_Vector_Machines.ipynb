{
 "cells": [
  {
   "cell_type": "markdown",
   "metadata": {},
   "source": [
    "# Kuzushiji Classification with Support Vector Machines\n",
    "\n",
    "In this notebook we are going to explore the use of Support Vector Machines (SVM) for image classification. We will use a variant of the famous MNIST dataset (the original is a dataset of handwritten digits). The version we are going to use is called Kuzushiji-MNIST or K-MNIST for short (https://github.com/rois-codh/kmnist) and is a dataset of traditional japanese handwritten kana.\n",
    "\n",
    "\n",
    "\n",
    "The dataset labels are the following:\n",
    "\n",
    "| Label | Hiragana Character | Romanji (Pronunciation) |\n",
    "| :-: | :-: | :-: |\n",
    "|   0   | お | o |\n",
    "| 1 | き | ki |\n",
    "| 2 | す | su |\n",
    "| 3 | つ | tsu |\n",
    "| 4 | な | na |\n",
    "| 5 | は | ha |\n",
    "| 6 | ま | ma |\n",
    "| 7 | や | ya |\n",
    "| 8 | れ | re |\n",
    "| 9 | を | wo |"
   ]
  },
  {
   "cell_type": "markdown",
   "metadata": {},
   "source": [
    "## TODO: Insert your surname, name and ID number\n",
    "\n",
    "Student surname:Tonazzo\n",
    "\n",
    "Student name:Valentina\n",
    "    \n",
    "ID:1143465"
   ]
  },
  {
   "cell_type": "code",
   "execution_count": 1,
   "metadata": {},
   "outputs": [],
   "source": [
    "#load the required packages\n",
    "\n",
    "%matplotlib inline  \n",
    "\n",
    "import numpy as np\n",
    "import scipy as sp\n",
    "import matplotlib.pyplot as plt\n",
    "\n",
    "import sklearn\n",
    "from sklearn.datasets import fetch_openml\n",
    "from sklearn.neural_network import MLPClassifier\n",
    "from sklearn.decomposition import PCA\n",
    "import sklearn.metrics as skm"
   ]
  },
  {
   "cell_type": "code",
   "execution_count": 2,
   "metadata": {},
   "outputs": [],
   "source": [
    "# helper function to load Kuzushiji-MNIST dataset\n",
    "def load_mnist(path, kind='train'):\n",
    "    import os\n",
    "    import gzip\n",
    "    import numpy as np\n",
    "    labels_path = os.path.join(path, 'K%s-labels-idx1-ubyte.gz' % kind)\n",
    "    images_path = os.path.join(path, 'K%s-images-idx3-ubyte.gz' % kind)\n",
    "    with gzip.open(labels_path, 'rb') as lbpath:\n",
    "        labels = np.frombuffer(lbpath.read(), dtype=np.uint8,offset=8)\n",
    "    with gzip.open(images_path, 'rb') as imgpath:\n",
    "        images = np.frombuffer(imgpath.read(), dtype=np.uint8,offset=16).reshape(len(labels), 784)\n",
    "    return images, labels"
   ]
  },
  {
   "cell_type": "code",
   "execution_count": 3,
   "metadata": {},
   "outputs": [],
   "source": [
    "#fix your ID (\"numero di matricola\") and the seed for random generator (as usual you can try different seeds)\n",
    "ID = 2060939# place a random seed\n",
    "np.random.seed(ID)"
   ]
  },
  {
   "cell_type": "code",
   "execution_count": 4,
   "metadata": {},
   "outputs": [
    {
     "name": "stdout",
     "output_type": "stream",
     "text": [
      "(60000, 784) (60000,)\n"
     ]
    }
   ],
   "source": [
    "#load the K-MNIST dataset from the 'data' folder and let's normalize the features so that each value is in [0,1] \n",
    "\n",
    "X, y = load_mnist('data', kind='train')\n",
    "# rescale the data\n",
    "X, y = X / 255., y # original pixel values are between 0 and 255\n",
    "print(X.shape, y.shape)"
   ]
  },
  {
   "cell_type": "markdown",
   "metadata": {},
   "source": [
    "Now split into training and test. Make sure that each label is present at least 10 times\n",
    "in training. If it is not, then keep adding permutations to the initial data until this \n",
    "happens."
   ]
  },
  {
   "cell_type": "code",
   "execution_count": 5,
   "metadata": {},
   "outputs": [
    {
     "name": "stdout",
     "output_type": "stream",
     "text": [
      "Labels in training dataset:  [0 1 2 3 4 5 6 7 8 9]\n",
      "Frequencies in training dataset:  [63 49 54 69 55 70 67 50 62 61]\n"
     ]
    }
   ],
   "source": [
    "# Random permute the data and split into training and test taking the first 600\n",
    "# data samples as training and 4000 samples as test\n",
    "permutation = np.random.permutation(X.shape[0])\n",
    "\n",
    "X = X[permutation]\n",
    "y = y[permutation]\n",
    "\n",
    "m_training = 600\n",
    "m_test = 4000\n",
    "\n",
    "X_train, X_test = X[:m_training], X[m_training:m_training+m_test:]\n",
    "y_train, y_test = y[:m_training], y[m_training:m_training+m_test:]\n",
    "\n",
    "labels, freqs = np.unique(y_train, return_counts=True)\n",
    "print(\"Labels in training dataset: \", labels)\n",
    "print(\"Frequencies in training dataset: \", freqs)\n"
   ]
  },
  {
   "cell_type": "code",
   "execution_count": 6,
   "metadata": {},
   "outputs": [],
   "source": [
    "#function for plotting a image and printing the corresponding label\n",
    "def plot_input(X_matrix, labels, index):\n",
    "    print(\"INPUT:\")\n",
    "    plt.imshow(\n",
    "        X_matrix[index].reshape(28,28),\n",
    "        cmap          = plt.cm.gray_r,\n",
    "        interpolation = \"nearest\"\n",
    "    )\n",
    "    plt.show()\n",
    "    print(\"LABEL: %i\"%labels[index])\n",
    "    return"
   ]
  },
  {
   "cell_type": "code",
   "execution_count": 7,
   "metadata": {},
   "outputs": [
    {
     "name": "stdout",
     "output_type": "stream",
     "text": [
      "INPUT:\n"
     ]
    },
    {
     "data": {
      "image/png": "[encoded data removed]",
      "text/plain": [
       "<Figure size 432x288 with 1 Axes>"
      ]
     },
     "metadata": {
      "needs_background": "light"
     },
     "output_type": "display_data"
    },
    {
     "name": "stdout",
     "output_type": "stream",
     "text": [
      "LABEL: 4\n",
      "INPUT:\n"
     ]
    },
    {
     "data": {
      "image/png": "[encoded data removed]",
      "text/plain": [
       "<Figure size 432x288 with 1 Axes>"
      ]
     },
     "metadata": {
      "needs_background": "light"
     },
     "output_type": "display_data"
    },
    {
     "name": "stdout",
     "output_type": "stream",
     "text": [
      "LABEL: 1\n",
      "INPUT:\n"
     ]
    },
    {
     "data": {
      "image/png": "[encoded data removed]",
      "text/plain": [
       "<Figure size 432x288 with 1 Axes>"
      ]
     },
     "metadata": {
      "needs_background": "light"
     },
     "output_type": "display_data"
    },
    {
     "name": "stdout",
     "output_type": "stream",
     "text": [
      "LABEL: 6\n",
      "INPUT:\n"
     ]
    },
    {
     "data": {
      "image/png": "[encoded data removed]",
      "text/plain": [
       "<Figure size 432x288 with 1 Axes>"
      ]
     },
     "metadata": {
      "needs_background": "light"
     },
     "output_type": "display_data"
    },
    {
     "name": "stdout",
     "output_type": "stream",
     "text": [
      "LABEL: 7\n"
     ]
    }
   ],
   "source": [
    "#let's try the plotting function\n",
    "plot_input(X_train,y_train,5)\n",
    "plot_input(X_test,y_test,50)\n",
    "plot_input(X_test,y_test,500)\n",
    "plot_input(X_test,y_test,700)"
   ]
  },
  {
   "cell_type": "markdown",
   "metadata": {},
   "source": [
    "## TO DO 1\n",
    "Use a SVM classifier with cross validation to pick a model. Use a 4-fold cross-validation. Let's start with a Linear kernel:"
   ]
  },
  {
   "cell_type": "code",
   "execution_count": 8,
   "metadata": {},
   "outputs": [
    {
     "name": "stdout",
     "output_type": "stream",
     "text": [
      "RESULTS FOR LINEAR KERNEL\n",
      "Best parameters set found: {'C': 0.1}\n",
      "Score with best parameters: 0.7766666666666667\n",
      "All scores on the grid:    mean_fit_time  std_fit_time  mean_score_time  std_score_time param_C  \\\n",
      "0       0.066073      0.004902         0.014737        0.000704    0.01   \n",
      "1       0.065039      0.005218         0.015219        0.003607     0.1   \n",
      "2       0.066615      0.005415         0.013857        0.000463       1   \n",
      "3       0.061492      0.001201         0.013937        0.000719      10   \n",
      "\n",
      "        params  split0_test_score  split1_test_score  split2_test_score  \\\n",
      "0  {'C': 0.01}           0.783333           0.741667           0.758333   \n",
      "1   {'C': 0.1}           0.758333           0.733333           0.816667   \n",
      "2     {'C': 1}           0.750000           0.733333           0.800000   \n",
      "3    {'C': 10}           0.750000           0.733333           0.800000   \n",
      "\n",
      "   split3_test_score  split4_test_score  mean_test_score  std_test_score  \\\n",
      "0           0.800000           0.741667         0.765000        0.023214   \n",
      "1           0.808333           0.766667         0.776667        0.031358   \n",
      "2           0.791667           0.766667         0.768333        0.024944   \n",
      "3           0.791667           0.766667         0.768333        0.024944   \n",
      "\n",
      "   rank_test_score  \n",
      "0                4  \n",
      "1                1  \n",
      "2                2  \n",
      "3                2  \n"
     ]
    }
   ],
   "source": [
    "import pandas as pd\n",
    "#import SVC\n",
    "from sklearn.svm import SVC\n",
    "#import for Cross-Validation\n",
    "from sklearn.model_selection import GridSearchCV\n",
    "\n",
    "# parameters for linear SVM\n",
    "parameters = {'C': [0.01, 0.1, 1, 10]}\n",
    "\n",
    "#train linear SVM\n",
    "svc = SVC(kernel='linear')    # ADD YOUR CODE\n",
    "model = GridSearchCV(svc, parameters)\n",
    "model.fit(X_train, y_train)\n",
    "\n",
    "print ('RESULTS FOR LINEAR KERNEL')\n",
    "\n",
    "print(\"Best parameters set found:\", model.best_params_)# ADD YOUR CODE\n",
    "\n",
    "\n",
    "print(\"Score with best parameters:\",model.best_score_)# ADD YOUR CODE\n",
    "\n",
    "\n",
    "print(\"All scores on the grid:\",pd.DataFrame(model.cv_results_))# ADD YOUR CODE\n",
    "# ADD YOUR CODE"
   ]
  },
  {
   "cell_type": "markdown",
   "metadata": {},
   "source": [
    "## TO DO 2\n",
    "Pick a model for the Polynomial kernel with degree=2:"
   ]
  },
  {
   "cell_type": "code",
   "execution_count": 9,
   "metadata": {},
   "outputs": [
    {
     "name": "stdout",
     "output_type": "stream",
     "text": [
      "RESULTS FOR POLY DEGREE=2 KERNEL\n",
      "Best parameters set found: {'C': 0.01, 'gamma': 0.1}\n",
      "Score with best parameters: 0.7866666666666666\n",
      "\n",
      "All scores on the grid:    mean_fit_time  std_fit_time  mean_score_time  std_score_time param_C  \\\n",
      "0       0.105031      0.007173         0.017236        0.000348    0.01   \n",
      "1       0.076782      0.005880         0.013724        0.000257    0.01   \n",
      "2       0.089003      0.002237         0.013195        0.000275    0.01   \n",
      "3       0.102780      0.000532         0.017057        0.000218     0.1   \n",
      "4       0.088540      0.000620         0.013162        0.000241     0.1   \n",
      "5       0.088129      0.000735         0.013225        0.000307     0.1   \n",
      "6       0.083093      0.001143         0.013764        0.000218       1   \n",
      "7       0.088224      0.001170         0.013258        0.000286       1   \n",
      "8       0.088290      0.000678         0.013221        0.000262       1   \n",
      "\n",
      "  param_gamma                      params  split0_test_score  \\\n",
      "0        0.01  {'C': 0.01, 'gamma': 0.01}           0.116667   \n",
      "1         0.1   {'C': 0.01, 'gamma': 0.1}           0.808333   \n",
      "2           1     {'C': 0.01, 'gamma': 1}           0.775000   \n",
      "3        0.01   {'C': 0.1, 'gamma': 0.01}           0.491667   \n",
      "4         0.1    {'C': 0.1, 'gamma': 0.1}           0.775000   \n",
      "5           1      {'C': 0.1, 'gamma': 1}           0.775000   \n",
      "6        0.01     {'C': 1, 'gamma': 0.01}           0.808333   \n",
      "7         0.1      {'C': 1, 'gamma': 0.1}           0.775000   \n",
      "8           1        {'C': 1, 'gamma': 1}           0.775000   \n",
      "\n",
      "   split1_test_score  split2_test_score  split3_test_score  split4_test_score  \\\n",
      "0           0.116667           0.116667           0.116667           0.191667   \n",
      "1           0.791667           0.758333           0.816667           0.758333   \n",
      "2           0.766667           0.791667           0.775000           0.775000   \n",
      "3           0.541667           0.533333           0.591667           0.558333   \n",
      "4           0.783333           0.791667           0.783333           0.758333   \n",
      "5           0.766667           0.791667           0.775000           0.775000   \n",
      "6           0.791667           0.758333           0.816667           0.758333   \n",
      "7           0.766667           0.791667           0.775000           0.775000   \n",
      "8           0.766667           0.791667           0.775000           0.775000   \n",
      "\n",
      "   mean_test_score  std_test_score  rank_test_score  \n",
      "0         0.131667        0.030000                9  \n",
      "1         0.786667        0.024495                1  \n",
      "2         0.776667        0.008165                4  \n",
      "3         0.543333        0.032660                8  \n",
      "4         0.778333        0.011304                3  \n",
      "5         0.776667        0.008165                4  \n",
      "6         0.786667        0.024495                1  \n",
      "7         0.776667        0.008165                4  \n",
      "8         0.776667        0.008165                4  \n"
     ]
    }
   ],
   "source": [
    "# parameters for poly with degree 2 kernel\n",
    "parameters = {'C': [0.01, 0.1, 1],'gamma':[0.01,0.1,1]}\n",
    "\n",
    "#run SVM with poly of degree 2 kernel\n",
    "svc2 = SVC(kernel='poly',degree=2)    # ADD YOUR CODE\n",
    "model2 = GridSearchCV(svc2, parameters)\n",
    "model2.fit(X_train, y_train)\n",
    "\n",
    "\n",
    "# ADD YOUR CODE\n",
    "\n",
    "print ('RESULTS FOR POLY DEGREE=2 KERNEL')\n",
    "\n",
    "print(\"Best parameters set found:\", model2.best_params_)\n",
    "# ADD YOUR CODE\n",
    "\n",
    "print(\"Score with best parameters:\",model2.best_score_)\n",
    "# ADD YOUR CODE\n",
    "\n",
    "print(\"\\nAll scores on the grid:\",pd.DataFrame(model2.cv_results_)) \n",
    "# ADD YOUR CODE"
   ]
  },
  {
   "cell_type": "markdown",
   "metadata": {},
   "source": [
    "## TO DO 3\n",
    "\n",
    "Now let's try a higher degree for the polynomial kernel (e.g., 3rd degree)."
   ]
  },
  {
   "cell_type": "code",
   "execution_count": 10,
   "metadata": {},
   "outputs": [
    {
     "name": "stdout",
     "output_type": "stream",
     "text": [
      "RESULTS FOR POLY DEGREE= 3  KERNEL\n",
      "Best parameters set found: {'C': 0.01, 'gamma': 0.1}\n",
      "Score with best parameters: 0.7683333333333333\n",
      "\n",
      "All scores on the grid:    mean_fit_time  std_fit_time  mean_score_time  std_score_time param_C  \\\n",
      "0       0.115239      0.005913         0.017453        0.000235    0.01   \n",
      "1       0.097891      0.001383         0.014518        0.001609    0.01   \n",
      "2       0.097987      0.000931         0.014044        0.000380    0.01   \n",
      "3       0.105305      0.000352         0.017125        0.000209     0.1   \n",
      "4       0.097610      0.000582         0.013817        0.000255     0.1   \n",
      "5       0.097505      0.000438         0.013830        0.000292     0.1   \n",
      "6       0.093720      0.001309         0.014356        0.000191       1   \n",
      "7       0.097451      0.000553         0.013782        0.000180       1   \n",
      "8       0.097593      0.000656         0.013785        0.000266       1   \n",
      "\n",
      "  param_gamma                      params  split0_test_score  \\\n",
      "0        0.01  {'C': 0.01, 'gamma': 0.01}           0.116667   \n",
      "1         0.1   {'C': 0.01, 'gamma': 0.1}           0.783333   \n",
      "2           1     {'C': 0.01, 'gamma': 1}           0.716667   \n",
      "3        0.01   {'C': 0.1, 'gamma': 0.01}           0.458333   \n",
      "4         0.1    {'C': 0.1, 'gamma': 0.1}           0.716667   \n",
      "5           1      {'C': 0.1, 'gamma': 1}           0.716667   \n",
      "6        0.01     {'C': 1, 'gamma': 0.01}           0.808333   \n",
      "7         0.1      {'C': 1, 'gamma': 0.1}           0.716667   \n",
      "8           1        {'C': 1, 'gamma': 1}           0.716667   \n",
      "\n",
      "   split1_test_score  split2_test_score  split3_test_score  split4_test_score  \\\n",
      "0           0.116667           0.116667           0.116667           0.133333   \n",
      "1           0.750000           0.775000           0.750000           0.783333   \n",
      "2           0.683333           0.775000           0.708333           0.725000   \n",
      "3           0.441667           0.483333           0.450000           0.508333   \n",
      "4           0.683333           0.775000           0.708333           0.725000   \n",
      "5           0.683333           0.775000           0.708333           0.725000   \n",
      "6           0.716667           0.658333           0.741667           0.700000   \n",
      "7           0.683333           0.775000           0.708333           0.725000   \n",
      "8           0.683333           0.775000           0.708333           0.725000   \n",
      "\n",
      "   mean_test_score  std_test_score  rank_test_score  \n",
      "0         0.120000        0.006667                9  \n",
      "1         0.768333        0.015275                1  \n",
      "2         0.721667        0.030092                3  \n",
      "3         0.468333        0.024381                8  \n",
      "4         0.721667        0.030092                3  \n",
      "5         0.721667        0.030092                3  \n",
      "6         0.725000        0.049721                2  \n",
      "7         0.721667        0.030092                3  \n",
      "8         0.721667        0.030092                3  \n"
     ]
    }
   ],
   "source": [
    "# parameters for poly with higher degree kernel\n",
    "parameters = {'C': [0.01, 0.1, 1],'gamma':[0.01,0.1,1]}\n",
    "\n",
    "#run SVM with poly of higher degree kernel\n",
    "degree = 3\n",
    "\n",
    "svc3 = SVC(kernel='poly',degree=degree)    # ADD YOUR CODE\n",
    "model3 = GridSearchCV(svc3, parameters)\n",
    "model3.fit(X_train, y_train)\n",
    "\n",
    "print ('RESULTS FOR POLY DEGREE=', degree, ' KERNEL')\n",
    "\n",
    "print(\"Best parameters set found:\", model3.best_params_)\n",
    "# ADD YOUR CODE\n",
    "\n",
    "print(\"Score with best parameters:\", model3.best_score_)\n",
    "# ADD YOUR CODE\n",
    "\n",
    "print(\"\\nAll scores on the grid:\",pd.DataFrame(model3.cv_results_))\n",
    "# ADD YOUR CODE"
   ]
  },
  {
   "cell_type": "markdown",
   "metadata": {},
   "source": [
    "## TO DO 4\n",
    "Pick a model for the Radial Basis Function kernel:"
   ]
  },
  {
   "cell_type": "code",
   "execution_count": 11,
   "metadata": {},
   "outputs": [
    {
     "name": "stdout",
     "output_type": "stream",
     "text": [
      "RESULTS FOR rbf KERNEL\n",
      "Best parameters set found: {'C': 10, 'gamma': 0.01}\n",
      "Score with best parameters: 0.825\n",
      "\n",
      "All scores on the grid:     mean_fit_time  std_fit_time  mean_score_time  std_score_time param_C  \\\n",
      "0        0.131376      0.006682         0.039376        0.001019     0.1   \n",
      "1        0.129205      0.001558         0.039449        0.000790     0.1   \n",
      "2        0.136419      0.000166         0.038982        0.000106     0.1   \n",
      "3        0.135376      0.000231         0.040187        0.001101     0.1   \n",
      "4        0.110321      0.000878         0.039367        0.001251       1   \n",
      "5        0.125058      0.000404         0.038311        0.001591       1   \n",
      "6        0.139162      0.000283         0.039145        0.000147       1   \n",
      "7        0.137146      0.000204         0.039113        0.000303       1   \n",
      "8        0.079375      0.001477         0.034011        0.000760      10   \n",
      "9        0.129160      0.000595         0.037659        0.001040      10   \n",
      "10       0.140157      0.000309         0.039295        0.000078      10   \n",
      "11       0.140586      0.000210         0.039398        0.000319      10   \n",
      "12       0.086074      0.001499         0.034095        0.000608     100   \n",
      "13       0.129036      0.000499         0.037522        0.000295     100   \n",
      "14       0.139915      0.000171         0.039318        0.000031     100   \n",
      "15       0.140848      0.000399         0.039315        0.000128     100   \n",
      "\n",
      "   param_gamma                      params  split0_test_score  \\\n",
      "0        0.001  {'C': 0.1, 'gamma': 0.001}           0.116667   \n",
      "1         0.01   {'C': 0.1, 'gamma': 0.01}           0.241667   \n",
      "2          0.1    {'C': 0.1, 'gamma': 0.1}           0.116667   \n",
      "3            1      {'C': 0.1, 'gamma': 1}           0.116667   \n",
      "4        0.001    {'C': 1, 'gamma': 0.001}           0.608333   \n",
      "5         0.01     {'C': 1, 'gamma': 0.01}           0.808333   \n",
      "6          0.1      {'C': 1, 'gamma': 0.1}           0.250000   \n",
      "7            1        {'C': 1, 'gamma': 1}           0.116667   \n",
      "8        0.001   {'C': 10, 'gamma': 0.001}           0.783333   \n",
      "9         0.01    {'C': 10, 'gamma': 0.01}           0.858333   \n",
      "10         0.1     {'C': 10, 'gamma': 0.1}           0.275000   \n",
      "11           1       {'C': 10, 'gamma': 1}           0.116667   \n",
      "12       0.001  {'C': 100, 'gamma': 0.001}           0.750000   \n",
      "13        0.01   {'C': 100, 'gamma': 0.01}           0.858333   \n",
      "14         0.1    {'C': 100, 'gamma': 0.1}           0.275000   \n",
      "15           1      {'C': 100, 'gamma': 1}           0.116667   \n",
      "\n",
      "    split1_test_score  split2_test_score  split3_test_score  \\\n",
      "0            0.116667           0.116667           0.116667   \n",
      "1            0.208333           0.266667           0.275000   \n",
      "2            0.116667           0.116667           0.116667   \n",
      "3            0.116667           0.116667           0.116667   \n",
      "4            0.683333           0.658333           0.675000   \n",
      "5            0.783333           0.783333           0.841667   \n",
      "6            0.208333           0.191667           0.200000   \n",
      "7            0.116667           0.116667           0.116667   \n",
      "8            0.758333           0.808333           0.816667   \n",
      "9            0.816667           0.816667           0.825000   \n",
      "10           0.225000           0.233333           0.216667   \n",
      "11           0.116667           0.116667           0.116667   \n",
      "12           0.741667           0.816667           0.816667   \n",
      "13           0.816667           0.816667           0.825000   \n",
      "14           0.225000           0.233333           0.216667   \n",
      "15           0.116667           0.116667           0.116667   \n",
      "\n",
      "    split4_test_score  mean_test_score  std_test_score  rank_test_score  \n",
      "0            0.208333         0.135000        0.036667               11  \n",
      "1            0.300000         0.258333        0.031180                7  \n",
      "2            0.116667         0.116667        0.000000               12  \n",
      "3            0.108333         0.115000        0.003333               13  \n",
      "4            0.658333         0.656667        0.026034                6  \n",
      "5            0.783333         0.800000        0.022973                3  \n",
      "6            0.225000         0.215000        0.020683               10  \n",
      "7            0.108333         0.115000        0.003333               13  \n",
      "8            0.758333         0.785000        0.024381                4  \n",
      "9            0.808333         0.825000        0.017480                1  \n",
      "10           0.233333         0.236667        0.020138                8  \n",
      "11           0.108333         0.115000        0.003333               13  \n",
      "12           0.766667         0.778333        0.032318                5  \n",
      "13           0.808333         0.825000        0.017480                1  \n",
      "14           0.233333         0.236667        0.020138                8  \n",
      "15           0.108333         0.115000        0.003333               13  \n"
     ]
    }
   ],
   "source": [
    "# parameters for rbf SVM\n",
    "parameters = {'C': [0.1, 1, 10, 100],'gamma':[0.001, 0.01, 0.1,1]}\n",
    "\n",
    "#run SVM with rbf kernel\n",
    "\n",
    "svc4 = SVC(kernel='rbf')    # ADD YOUR CODE\n",
    "model4 = GridSearchCV(svc4, parameters)\n",
    "model4.fit(X_train, y_train)\n",
    "\n",
    "# ADD YOUR CODE\n",
    "\n",
    "print ('RESULTS FOR rbf KERNEL')\n",
    "\n",
    "print(\"Best parameters set found:\",model4.best_params_)\n",
    "# ADD YOUR CODE\n",
    "\n",
    "print(\"Score with best parameters:\",model4.best_score_)\n",
    "# ADD YOUR CODE\n",
    "\n",
    "print(\"\\nAll scores on the grid:\",pd.DataFrame(model4.cv_results_))\n",
    "# ADD YOUR CODE"
   ]
  },
  {
   "cell_type": "markdown",
   "metadata": {},
   "source": [
    "## QUESTION 1\n",
    "What do you observe when using linear, polynomial and RBF kernels on this dataset ?\n",
    "\n",
    "I observe that RBF kernel gives the best result with C=10 and gamma=0.01, with polynomial kernels results are worse, we have a small improvement with kernel poly=2, but then poly=3 kernel gives similar results of linear kernel.  "
   ]
  },
  {
   "cell_type": "markdown",
   "metadata": {},
   "source": [
    "## TO DO 5\n",
    "Report here the best SVM kernel and parameters"
   ]
  },
  {
   "cell_type": "code",
   "execution_count": 12,
   "metadata": {},
   "outputs": [
    {
     "name": "stdout",
     "output_type": "stream",
     "text": [
      "Best SVM training error: 0.000000\n",
      "Best SVM test error: 0.182750\n"
     ]
    }
   ],
   "source": [
    "#get training and test error for the best SVM model from CV\n",
    "\n",
    "best_SVM = model4 # USE YOUR OPTIMAL PARAMETERS\n",
    "best_SVM.fit(X_train, y_train) # ADD YOUR CODE\n",
    "\n",
    "\n",
    "# (error is 1 - svm.score)\n",
    "training_error = 1 - best_SVM.score(X_train, y_train)\n",
    "test_error = 1 - best_SVM.score(X_test, y_test)\n",
    "print (\"Best SVM training error: %f\" % training_error)\n",
    "print (\"Best SVM test error: %f\" % test_error)"
   ]
  },
  {
   "cell_type": "markdown",
   "metadata": {},
   "source": [
    "## TO DO 6\n",
    "\n",
    "Analyze how the gamma parameter (inversely proportional to standard deviation of Gaussian Kernel) impact the performances of the classifier"
   ]
  },
  {
   "cell_type": "code",
   "execution_count": 13,
   "metadata": {},
   "outputs": [
    {
     "name": "stdout",
     "output_type": "stream",
     "text": [
      "[1.e-05 1.e-04 1.e-03 1.e-02 1.e-01 1.e+00 1.e+01 1.e+02]\n"
     ]
    }
   ],
   "source": [
    "#Test with different values of gamma\n",
    "\n",
    "# Set gamma values\n",
    "gamma_values = np.logspace(-5,2,8)\n",
    "print(gamma_values)\n"
   ]
  },
  {
   "cell_type": "code",
   "execution_count": 14,
   "metadata": {},
   "outputs": [
    {
     "data": {
      "image/png": "[encoded data removed]",
      "text/plain": [
       "<Figure size 1080x360 with 2 Axes>"
      ]
     },
     "metadata": {
      "needs_background": "light"
     },
     "output_type": "display_data"
    }
   ],
   "source": [
    "# Try the SVM with the previously set values of gamma\n",
    "# use rbf kernel and C=1\n",
    "\n",
    "train_acc_list, test_acc_list = [], []\n",
    "\n",
    "    \n",
    "# ADD YOUR CODE TO TRAIN THE SVM MULTIPLE TIMES WITH THE DIFFERENT VALUES OF GAMMA\n",
    "# PLACE THE TRAIN AND TEST ACCURACY FOR EACH TEST IN THE TRAIN AND TEST ACCURACY LISTS\n",
    "\n",
    "for i in range (len(gamma_values)):\n",
    "    svc6 = SVC(kernel='rbf', C=1, gamma=gamma_values[i])\n",
    "    svc6.fit(X_train, y_train)\n",
    "    train_acc_list.append(svc6.score(X_train, y_train))\n",
    "    test_acc_list.append(svc6.score(X_test, y_test))\n",
    "    \n",
    "\n",
    "#for i in range (len(gamma_values)):\n",
    " #   print(1-train_acc_list[i],1-test_acc_list[i])\n",
    "\n",
    "# Plot\n",
    "fig, ax = plt.subplots(1,2, figsize=(15,5))\n",
    "\n",
    "ax[0].plot(gamma_values, train_acc_list)\n",
    "ax[0].set_xscale('log')\n",
    "ax[0].set_xlabel('gamma')\n",
    "ax[0].set_ylabel('Train accuracy')\n",
    "ax[0].grid(True)\n",
    "\n",
    "ax[1].plot(gamma_values, test_acc_list)\n",
    "ax[1].set_xscale('log')\n",
    "ax[1].set_xlabel('gamma')\n",
    "ax[1].set_ylabel('Test accuracy')\n",
    "ax[1].grid(True)\n",
    "\n",
    "\n",
    "plt.show()"
   ]
  },
  {
   "cell_type": "markdown",
   "metadata": {},
   "source": [
    "## QUESTION 2\n",
    "How do the train and test error change when changing gamma ? Which is the best value of gamma ? \n",
    "Connect your answers to the discussion about the overfitting issue.\n",
    "\n",
    "As we can deduce from the graphics, training error rapidly decreses when gamma increses from gamma=10^-4 to gamma=10^-2 and then it stabilize itself on the value 0.0. Instead test error reaches a minimum value at gamma=10^-2, so we can conclude that the best value of gamma is 10^-2 and going over that value means overfiiting the data. "
   ]
  },
  {
   "cell_type": "markdown",
   "metadata": {},
   "source": [
    "## More data\n",
    "Now let's do the same but using more data points for training.\n",
    "\n",
    "\n",
    "Choose a new number of data points."
   ]
  },
  {
   "cell_type": "code",
   "execution_count": 15,
   "metadata": {},
   "outputs": [
    {
     "name": "stdout",
     "output_type": "stream",
     "text": [
      "Labels in training dataset:  [0 1 2 3 4 5 6 7 8 9]\n",
      "Frequencies in training dataset:  [183 207 189 205 223 181 205 219 193 195]\n"
     ]
    }
   ],
   "source": [
    "X = X[permutation]\n",
    "y = y[permutation]\n",
    "\n",
    "m_training = 2000 # TODO number of data points, adjust depending on the capabilities of your PC\n",
    "\n",
    "X_train, X_test = X[:m_training], X[m_training:]\n",
    "y_train, y_test = y[:m_training], y[m_training:]\n",
    "\n",
    "labels, freqs = np.unique(y_train, return_counts=True)\n",
    "print(\"Labels in training dataset: \", labels)\n",
    "print(\"Frequencies in training dataset: \", freqs)"
   ]
  },
  {
   "cell_type": "markdown",
   "metadata": {},
   "source": [
    "## TO DO 7\n",
    "\n",
    "Let's try to use SVM with parameters obtained from the best model for $m_{training} =  2000$. Since it may take a long time to run, you can decide to just let it run for some time and stop it if it does not complete. If you decide to do this, report it in the cell below."
   ]
  },
  {
   "cell_type": "code",
   "execution_count": 16,
   "metadata": {
    "scrolled": true
   },
   "outputs": [
    {
     "name": "stdout",
     "output_type": "stream",
     "text": [
      "Best SVM training error: 0.000000\n",
      "Best SVM test error: 0.110552\n"
     ]
    }
   ],
   "source": [
    "#get training and test error for the best SVM model from CV\n",
    "\n",
    "# ADD YOUR CODE\n",
    "best_SVM = model4 # USE YOUR OPTIMAL PARAMETERS\n",
    "best_SVM.fit(X_train, y_train)\n",
    "training_error = 1 - best_SVM.score(X_train, y_train)\n",
    "test_error = 1 - best_SVM.score(X_test, y_test)\n",
    "\n",
    "\n",
    "print (\"Best SVM training error: %f\" % training_error)\n",
    "print (\"Best SVM test error: %f\" % test_error)"
   ]
  },
  {
   "cell_type": "markdown",
   "metadata": {},
   "source": [
    "Just for comparison, let's also use logistic regression \n",
    "\n",
    "## TO DO 8 Try first without regularization (use a very large large C)¶"
   ]
  },
  {
   "cell_type": "code",
   "execution_count": 17,
   "metadata": {},
   "outputs": [
    {
     "name": "stdout",
     "output_type": "stream",
     "text": [
      "Best logistic regression training error: 0.000000\n",
      "Best logistic regression test error: 0.281707\n"
     ]
    },
    {
     "name": "stderr",
     "output_type": "stream",
     "text": [
      "/home/valentina/anaconda3/lib/python3.8/site-packages/sklearn/linear_model/_logistic.py:763: ConvergenceWarning: lbfgs failed to converge (status=1):\n",
      "STOP: TOTAL NO. of ITERATIONS REACHED LIMIT.\n",
      "\n",
      "Increase the number of iterations (max_iter) or scale the data as shown in:\n",
      "    https://scikit-learn.org/stable/modules/preprocessing.html\n",
      "Please also refer to the documentation for alternative solver options:\n",
      "    https://scikit-learn.org/stable/modules/linear_model.html#logistic-regression\n",
      "  n_iter_i = _check_optimize_result(\n"
     ]
    }
   ],
   "source": [
    "from sklearn import linear_model\n",
    "\n",
    "# ADD YOUR CODE\n",
    "reg = linear_model.LogisticRegression(C=1e5)\n",
    "reg.fit(X_train, y_train)\n",
    "training_error = 1 - reg.score(X_train, y_train)\n",
    "test_error = 1 - reg.score(X_test, y_test)\n",
    "\n",
    "\n",
    "print (\"Best logistic regression training error: %f\" % training_error)\n",
    "print (\"Best logistic regression test error: %f\" % test_error)"
   ]
  },
  {
   "cell_type": "markdown",
   "metadata": {},
   "source": [
    "## TO DO 9 Try  with regularization (use C=1)¶"
   ]
  },
  {
   "cell_type": "code",
   "execution_count": 18,
   "metadata": {},
   "outputs": [
    {
     "name": "stdout",
     "output_type": "stream",
     "text": [
      "Best regularized logistic regression training error: 0.001000\n",
      "Best regularized logistic regression test error: 0.260690\n"
     ]
    },
    {
     "name": "stderr",
     "output_type": "stream",
     "text": [
      "/home/valentina/anaconda3/lib/python3.8/site-packages/sklearn/linear_model/_logistic.py:763: ConvergenceWarning: lbfgs failed to converge (status=1):\n",
      "STOP: TOTAL NO. of ITERATIONS REACHED LIMIT.\n",
      "\n",
      "Increase the number of iterations (max_iter) or scale the data as shown in:\n",
      "    https://scikit-learn.org/stable/modules/preprocessing.html\n",
      "Please also refer to the documentation for alternative solver options:\n",
      "    https://scikit-learn.org/stable/modules/linear_model.html#logistic-regression\n",
      "  n_iter_i = _check_optimize_result(\n"
     ]
    }
   ],
   "source": [
    "# ADD YOUR CODE\n",
    "\n",
    "reg2 = linear_model.LogisticRegression(C=1)\n",
    "reg2.fit(X_train, y_train)\n",
    "training_error2 = 1 - reg2.score(X_train, y_train)\n",
    "test_error2 = 1 - reg2.score(X_test, y_test)\n",
    "\n",
    "print (\"Best regularized logistic regression training error: %f\" % training_error2)\n",
    "print (\"Best regularized logistic regression test error: %f\" % test_error2)"
   ]
  },
  {
   "cell_type": "markdown",
   "metadata": {},
   "source": [
    "## QUESTION 3\n",
    "Compare and discuss:\n",
    "- the results from SVM with m=600 and with m=2000 training data points. If you stopped the SVM, include such aspect in your comparison.\n",
    "- the results of SVM and of Logistic Regression\n",
    "\n",
    "According with theory, the result for test error with m=2000 is smaller then the previous case m=600, this is due to the fact that learning is better with larger traning sample. \n",
    "On the other hand, logistic regression with and without regularization has a bigger test error, also training error is different from zero in the regularized case, this may be due to some overfitting effect.\n",
    "\n"
   ]
  },
  {
   "cell_type": "markdown",
   "metadata": {},
   "source": [
    "## TO DO 10\n",
    "Plot an item of clothing (do you mean symbol character kana???) that is missclassified by logistic regression and correctly classified by SVM."
   ]
  },
  {
   "cell_type": "code",
   "execution_count": 19,
   "metadata": {},
   "outputs": [
    {
     "name": "stdout",
     "output_type": "stream",
     "text": [
      "INPUT:\n"
     ]
    },
    {
     "data": {
      "image/png": "[encoded data removed]",
      "text/plain": [
       "<Figure size 432x288 with 1 Axes>"
      ]
     },
     "metadata": {
      "needs_background": "light"
     },
     "output_type": "display_data"
    },
    {
     "name": "stdout",
     "output_type": "stream",
     "text": [
      "LABEL: 8\n",
      "index associated to the last misclassified: 57996\n",
      "LR prediction: 3\n",
      "SVM prediction: 8\n"
     ]
    }
   ],
   "source": [
    "LR_prediction = reg2.predict(X_test)# ADD CODE\n",
    "SVM_prediction = best_SVM.predict(X_test) # ADD CODE\n",
    "\n",
    "# ADD CODE\n",
    "c=0\n",
    "for i in range(len(LR_prediction)):\n",
    "    if LR_prediction[i]!=y_test[i] and SVM_prediction[i]==y_test[i]:\n",
    "        c=i\n",
    "        \n",
    "plot_input(X_test,y_test,c)\n",
    "print(\"index associated to the last misclassified:\", c)\n",
    "print(\"LR prediction:\", LR_prediction[c])\n",
    "print(\"SVM prediction:\", SVM_prediction[c])\n",
    "\n",
    "\n"
   ]
  },
  {
   "cell_type": "markdown",
   "metadata": {},
   "source": [
    "## TO DO 11\n",
    "Plot the confusion matrix for the SVM classifier and for logistic regression.\n",
    "The confusion matrix has one column for each predicted label and one row for each true label. \n",
    "It shows for each class in the corresponding row how many samples belonging to that class gets each possible output label.\n",
    "Notice that the diagonal contains the correctly classified samples, while the other cells correspond to errors.\n",
    "You can obtain it with the sklearn.metrics.confusion_matrix function (see the documentation).\n",
    "Try also to normalize the confusion matrix by the number of samples in each class in order to measure the accuracy on each single class.\n"
   ]
  },
  {
   "cell_type": "code",
   "execution_count": 20,
   "metadata": {},
   "outputs": [
    {
     "name": "stdout",
     "output_type": "stream",
     "text": [
      "Labels and frequencies in test set:  [5817 5793 5811 5795 5777 5819 5795 5781 5807 5805]\n",
      "\n",
      " Confusion matrix SVM  \n",
      " \n",
      " [[5428    7    4   36  104   55   13   97   38   35]\n",
      " [  15 5162  126   59  122    6  140    5   93   65]\n",
      " [   0  120 4838  103   85   29  382   17  185   52]\n",
      " [  13   62   94 5432   63   37   18   17   50    9]\n",
      " [ 139   89  153   50 5108   13   73   14   67   71]\n",
      " [  53   59  130  176   74 5178   41   21   72   15]\n",
      " [   8  107  344   65  230   32 4896   49   51   13]\n",
      " [  37   17   63   38  199   24   74 5222   56   51]\n",
      " [  53  149   82   94   48   45  143    7 5154   32]\n",
      " [  25  218  167   23  129   14   20   19   20 5170]]\n",
      "\n",
      " Confusion matrix SVM (normalized)   \n",
      " \n",
      " [[0.93 0.00 0.00 0.01 0.02 0.01 0.00 0.02 0.01 0.01]\n",
      " [0.00 0.89 0.02 0.01 0.02 0.00 0.02 0.00 0.02 0.01]\n",
      " [0.00 0.02 0.83 0.02 0.01 0.00 0.07 0.00 0.03 0.01]\n",
      " [0.00 0.01 0.02 0.94 0.01 0.01 0.00 0.00 0.01 0.00]\n",
      " [0.02 0.02 0.03 0.01 0.88 0.00 0.01 0.00 0.01 0.01]\n",
      " [0.01 0.01 0.02 0.03 0.01 0.89 0.01 0.00 0.01 0.00]\n",
      " [0.00 0.02 0.06 0.01 0.04 0.01 0.84 0.01 0.01 0.00]\n",
      " [0.01 0.00 0.01 0.01 0.03 0.00 0.01 0.90 0.01 0.01]\n",
      " [0.01 0.03 0.01 0.02 0.01 0.01 0.02 0.00 0.89 0.01]\n",
      " [0.00 0.04 0.03 0.00 0.02 0.00 0.00 0.00 0.00 0.89]]\n",
      "\n",
      " Confusion matrix LR  \n",
      " \n",
      " [[4935   12   23   61  192  236   13  163   39  143]\n",
      " [  30 4041  427  234  217   61  246   21  251  265]\n",
      " [   5  416 3532  171  188  202  782   35  329  151]\n",
      " [  26  228  145 4616  171  294   26   84  179   26]\n",
      " [ 270  209  293  184 4148   72  178   89  103  231]\n",
      " [ 136  110  175  295  109 4572  120  130  138   34]\n",
      " [  17  200  465  126  317  205 4161   95  171   38]\n",
      " [ 105   73  129  109  256  149  137 4606   89  128]\n",
      " [ 135  330  374  243  151  154  258   18 4068   76]\n",
      " [ 110  441  358   61  271   78  104   58  123 4201]]\n",
      "\n",
      " Confusion matrix LR (normalized)   \n",
      " \n",
      " [[0.85 0.00 0.00 0.01 0.03 0.04 0.00 0.03 0.01 0.02]\n",
      " [0.01 0.70 0.07 0.04 0.04 0.01 0.04 0.00 0.04 0.05]\n",
      " [0.00 0.07 0.61 0.03 0.03 0.03 0.13 0.01 0.06 0.03]\n",
      " [0.00 0.04 0.03 0.80 0.03 0.05 0.00 0.01 0.03 0.00]\n",
      " [0.05 0.04 0.05 0.03 0.72 0.01 0.03 0.02 0.02 0.04]\n",
      " [0.02 0.02 0.03 0.05 0.02 0.79 0.02 0.02 0.02 0.01]\n",
      " [0.00 0.03 0.08 0.02 0.05 0.04 0.72 0.02 0.03 0.01]\n",
      " [0.02 0.01 0.02 0.02 0.04 0.03 0.02 0.80 0.02 0.02]\n",
      " [0.02 0.06 0.06 0.04 0.03 0.03 0.04 0.00 0.70 0.01]\n",
      " [0.02 0.08 0.06 0.01 0.05 0.01 0.02 0.01 0.02 0.72]]\n"
     ]
    }
   ],
   "source": [
    "from sklearn.metrics import confusion_matrix\n",
    "\n",
    "np.set_printoptions(precision=2, suppress=True, floatmode='fixed') # for better aligned printing of confusion matrix use floatmode='fixed'\n",
    "\n",
    "u, counts = np.unique(y_test, return_counts=True)\n",
    "print(\"Labels and frequencies in test set: \", counts)\n",
    "\n",
    "confusion_SVM = confusion_matrix(y_test,SVM_prediction)# ADD CODE\n",
    "print(\"\\n Confusion matrix SVM  \\n \\n\", confusion_SVM)\n",
    "print(\"\\n Confusion matrix SVM (normalized)   \\n \\n\", confusion_SVM /counts[:,None] )\n",
    "\n",
    "confusion_LR = confusion_matrix(y_test,LR_prediction)  # ADD CODE\n",
    "print(\"\\n Confusion matrix LR  \\n \\n\", confusion_LR)\n",
    "print(\"\\n Confusion matrix LR (normalized)   \\n \\n\", confusion_LR /counts[:,None] )"
   ]
  },
  {
   "cell_type": "code",
   "execution_count": 21,
   "metadata": {},
   "outputs": [],
   "source": [
    "# ADD CODE TO NORMALIZE CONFUSION MATRIX AND PRINT THE NORMALIZED MATRIX\n",
    "#non è già stato fatto?? "
   ]
  },
  {
   "cell_type": "markdown",
   "metadata": {},
   "source": [
    "## QUESTION 4\n",
    "Have a look at the confusion matrices and comment on the obtained accuracies. Why some classes have lower accuracies and others an higher one ? Make some guesses on the possible causes.\n",
    "\n",
    "Actually they are similar, but in the diagonal of confusion matrices we can see some differences, maybe this differences occure because some classes are similr to other ones.\n"
   ]
  },
  {
   "cell_type": "code",
   "execution_count": null,
   "metadata": {},
   "outputs": [],
   "source": []
  }
 ],
 "metadata": {
  "kernelspec": {
   "display_name": "Python 3 (ipykernel)",
   "language": "python",
   "name": "python3"
  },
  "language_info": {
   "codemirror_mode": {
    "name": "ipython",
    "version": 3
   },
   "file_extension": ".py",
   "mimetype": "text/x-python",
   "name": "python",
   "nbconvert_exporter": "python",
   "pygments_lexer": "ipython3",
   "version": "3.8.8"
  }
 },
 "nbformat": 4,
 "nbformat_minor": 4
}
